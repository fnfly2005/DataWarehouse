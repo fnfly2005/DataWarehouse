{
 "cells": [
  {
   "cell_type": "markdown",
   "metadata": {},
   "source": [
    "# 15 电子商务\n",
    "面向Web业务的点击流数据记录了每个Web用户的行为，从最基本的形式来看，点击流是由各公司的Web服务器对每个页面事件的记录。点击流包含大量的新维度，例如页面、会话以及推荐，这些维度在其他数据源中都没有出现过  \n",
    "本章将以描述原始点击流数据源和设计其相关维度模型开始  \n",
    "本章主要讨论以下概念：  \n",
    "+ 点击流数据极其独有的维度\n",
    "+ 诸如Google Analytics这样的外部服务的作用 5\n"
   ]
  }
 ],
 "metadata": {
  "kernelspec": {
   "display_name": "Python 3",
   "language": "python",
   "name": "python3"
  },
  "language_info": {
   "codemirror_mode": {
    "name": "ipython",
    "version": 3
   },
   "file_extension": ".py",
   "mimetype": "text/x-python",
   "name": "python",
   "nbconvert_exporter": "python",
   "pygments_lexer": "ipython3",
   "version": "3.7.1"
  },
  "toc": {
   "base_numbering": 1,
   "nav_menu": {},
   "number_sections": false,
   "sideBar": true,
   "skip_h1_title": false,
   "title_cell": "Table of Contents",
   "title_sidebar": "Contents",
   "toc_cell": false,
   "toc_position": {},
   "toc_section_display": true,
   "toc_window_display": false
  }
 },
 "nbformat": 4,
 "nbformat_minor": 4
}
