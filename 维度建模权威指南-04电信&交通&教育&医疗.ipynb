{
 "cells": [
  {
   "cell_type": "markdown",
   "metadata": {},
   "source": [
    "# 11 电信\n",
    "本章所展现的内容有前面几章有一些差别。本章的大部分内容关注维度模型设计过程中出现的缺陷  \n",
    "我们将以一个取自电信行业的计费小场景为基础来展开案例研究工作，该案例与从公共事业公司建立的计费数据具有相同的特征  \n",
    "本章主要讨论下列概念：  \n",
    "+ 电信公司的总线矩阵片段\n",
    "+ 设计评审训练 5\n",
    "+ 常见设计错误的检查列表\n",
    "+ 推荐组织设计评审时可采用的技巧？\n",
    "+ 改造现有的数据结构\n",
    "+ 抽象地理位置维度 5  \n",
    "\n",
    "## 11.1 电信业案例研究与总线矩阵  \n",
    "假定您已经具备了丰富的维度建模经验，最近您被聘用到一个新的职位，作为某个大型无线电信公司DW/BI项目小组的维度建模人员  \n",
    "DW/BI小组期望您能对初始的维度设计进行评审。基于初期获得的需求，小组起草了一个初步的数据仓库总线矩阵。如图11-1所示。小组对几个核心商业过程和一些公共维度进行了区分  \n",
    "![11-1](../syn_pic/the_datawarehouse_toolkit/11-1.png)\n",
    "<center>图11-1 电信公司的总线矩阵行样例</center>\n",
    "\n",
    "指导委员会决定在DW/BI项目初期重点关注客户计费过程。幸运的是，IT小组认为在第1次数据仓库迭代中处理这些业务过程是可行的  \n",
    "IT组织的一些成员认为，处理独立呼叫和消息的详细流量是最可取的。尽管此类高级别的细节数据可以提供有趣的见识，但联合指导委员会认为相关的数据会在可行性方面带来更多挑战，而不是提供尽可能多的短期业务价值 5  \n",
    "基于委员会的指导，小组对客户计费数据进行了更加详细的考察。每个月，操作型计费系统为每个电话号码生成一个计费单，也称为服务列表项  \n",
    "每个服务列表项与一个客户关联。然而，一个客户可以具有多个无线服务列表项，在同一个计费单中可能包含不同的服务列表项  \n",
    "每个服务列表项有自己的账单度量集，例如，通话分钟数、文本信息数量、数据量、月服务费等。在某个给定的计费单中，单一的费率关联每个服务列表项，但是该费率可能会随着客户习惯的改变而发生变化  \n",
    "与业务代表及DW/BI小组成员紧密沟通后，数据建模设计者设计的事实表粒度为每个计费单每月一行。小组自豪地展示其初步的维度建模杰作，如图11-2所示，并充满期待地征询您的意见  \n",
    "您怎么看？在开始提出建议前，请花点时间研究一下如图11-2所示的设计 5  \n",
    "![11-2](../syn_pic/the_datawarehouse_toolkit/11-2.png)\n",
    "<center>图11-2 设计评审前的初步模式</center>"
   ]
  }
 ],
 "metadata": {
  "kernelspec": {
   "display_name": "Python 3",
   "language": "python",
   "name": "python3"
  },
  "language_info": {
   "codemirror_mode": {
    "name": "ipython",
    "version": 3
   },
   "file_extension": ".py",
   "mimetype": "text/x-python",
   "name": "python",
   "nbconvert_exporter": "python",
   "pygments_lexer": "ipython3",
   "version": "3.7.1"
  },
  "toc": {
   "base_numbering": 1,
   "nav_menu": {},
   "number_sections": false,
   "sideBar": true,
   "skip_h1_title": false,
   "title_cell": "Table of Contents",
   "title_sidebar": "Contents",
   "toc_cell": false,
   "toc_position": {},
   "toc_section_display": true,
   "toc_window_display": false
  }
 },
 "nbformat": 4,
 "nbformat_minor": 4
}
