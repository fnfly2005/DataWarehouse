{
 "cells": [
  {
   "cell_type": "markdown",
   "metadata": {},
   "source": [
    "# 8 客户关系管理\n",
    "在客户关系管理这一概念成为时髦术语之前，许多组织设计并开发了以客户为中心的维度模型，以便能够更好地理解客户的行为。客户关系管理是一种重要的商业策略，很多观念认为，客户关系管理是企业生存的基础  \n",
    "本章首先综述客户关系管理的基本概念，包含其操作和分析角色。在描述各种不同的客户层次时，将探讨建模复杂层次存在的问题  \n",
    "本章主要包含以下概念：  \n",
    "+ 客户关系管理概述\n",
    "+ 客户名称和地址解析，包括国际方面的考虑 5  \n",
    "+ 处理日期、聚集事实，以及在客户维度中分割行为属性和积分  \n",
    "+ 用于处理低粒度属性的支架表  \n",
    "+ 稀疏数据的桥接表，以及权衡桥接表与位置设计  \n",
    "+ 应用于多客户联系人的桥接表\n",
    "+ 获取客户队列组的行为研究分组 5\n",
    "+ 分析有序客户行为的步骤维度  \n",
    "+ 带有有效日期和失效日期的包含时间范围的事实表\n",
    "+ 完善事实表使用的满意维度或异常情况  \n",
    "+ 在ETL过程下游通过主数据管理或部分一致性集成客户数据  \n",
    "+ 有关对应表连接的警告 5  \n",
    "+ 实现实时、低时间延迟需求的检查  \n",
    "\n",
    "因为本章以客户为中心的建模问题和模式与跨行业和功能区的情况是相关的，因此不讨论总线矩阵 5  \n"
   ]
  }
 ],
 "metadata": {
  "kernelspec": {
   "display_name": "Python 3",
   "language": "python",
   "name": "python3"
  },
  "language_info": {
   "codemirror_mode": {
    "name": "ipython",
    "version": 3
   },
   "file_extension": ".py",
   "mimetype": "text/x-python",
   "name": "python",
   "nbconvert_exporter": "python",
   "pygments_lexer": "ipython3",
   "version": "3.7.1"
  },
  "toc": {
   "base_numbering": 1,
   "nav_menu": {},
   "number_sections": false,
   "sideBar": true,
   "skip_h1_title": false,
   "title_cell": "Table of Contents",
   "title_sidebar": "Contents",
   "toc_cell": false,
   "toc_position": {},
   "toc_section_display": true,
   "toc_window_display": false
  }
 },
 "nbformat": 4,
 "nbformat_minor": 4
}
