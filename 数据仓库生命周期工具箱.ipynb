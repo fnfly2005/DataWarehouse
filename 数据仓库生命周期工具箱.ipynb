{
 "cells": [
  {
   "cell_type": "markdown",
   "metadata": {},
   "source": [
    "# 7 维度模型设计\n",
    "## 7.4 设计维度模型"
   ]
  },
  {
   "cell_type": "markdown",
   "metadata": {},
   "source": [
    "### 7.4.3 审查和验证模型\n",
    "#### 1 实施IT数据模型审查\n",
    "注意：如果需要建立8-10个维度，那么可能需要好几个设计会议来完成IT数据模型的审查\n",
    "##### 准备\n",
    "审查过程中最好安排一些关于维度建模的知识讲座\n",
    "##### 会议流程\n",
    "当每个人都了解基本概念后，开始进行总线矩阵的审查  \n",
    "这个过程将使大家了解项目范围和全局数据架构，论证一致性维度角色 并且给出相关业务过程的优先级  \n",
    "接下来说明如何将矩阵中选择的行直接转换到高层维度模型图  \n",
    "审查会议大部分时间都应当逐个检查维度表和事实表，可以对尚未解决的问题进行审查  \n",
    "通常与会的某个人员给出答案，至少也会知道从哪里找到答案  \n",
    "#### 2 与核心用户一同审查\n",
    "核心业务比一般业务用户在技术方面懂得更多，能处理有关模型的很多细节问题  \n",
    "通常IT审查会议和核心用户审查会议是合到一起举行的\n",
    "#### 3 向业务用户介绍\n",
    "应当使业务用户理解维度模型，还要告诉他们维度模型是如何支持他们业务需求的  \n",
    "一般使用高层模型图来向用户介绍单个维度表，而不是使用详细设计工作表  \n",
    "分配大约三分之一的世界来说明如何使用模型解决业务过程中遇到的问题"
   ]
  }
 ],
 "metadata": {
  "kernelspec": {
   "display_name": "Python 3",
   "language": "python",
   "name": "python3"
  },
  "language_info": {
   "codemirror_mode": {
    "name": "ipython",
    "version": 3
   },
   "file_extension": ".py",
   "mimetype": "text/x-python",
   "name": "python",
   "nbconvert_exporter": "python",
   "pygments_lexer": "ipython3",
   "version": "3.7.1"
  }
 },
 "nbformat": 4,
 "nbformat_minor": 2
}
