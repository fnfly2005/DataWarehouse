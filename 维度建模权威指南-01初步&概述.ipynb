{
 "cells": [
  {
   "cell_type": "markdown",
   "metadata": {},
   "source": [
    "# 1 数据仓库、商业智能及维度建模初步\n",
    "本章是后续各章的基础。本书将紧紧抓住业务需求这一要点，逐步深入探讨逻辑设计、物理设计以及采用有关技术和工具的决策等问题  \n",
    "本章将详细考察数据仓库及商业智能的主要目标，辨析DW/BI管理者与杂志出版商各自责任中存在的不可思议的相似之处  \n",
    "基于此背景，我们将探索维度建模核心概念并建立基本词汇表。在此基础上，本章将讨论Kimball DW/BI结构的主要组成部分，并与其他不同的结构方法进行比较，无论您倾向于使用何种结构，这些讨论对维度建模都有非常重要的意义  \n",
    "本章主要讨论下述概念：  \n",
    "+ DW/BI的业务驱动目标 5\n",
    "+ 发布DW/BI系统的隐喻 \n",
    "+ 维度建模核心概念及涉及的主要词汇，包括事实表与维度表  \n",
    "+ Kimball DW/BI架构的组件与原则  \n",
    "+ 不同DW/BI架构的比较研究，维度建模在不同架构中所扮演的角色  \n",
    "+ 有关维度建模的误解 5  \n",
    "\n",
    "## 1.1 数据获取与数据分析的区别\n",
    "对所有组织来说，信息都是其最重要的财富之一。信息几乎总是用作两个目的：操作型记录的保存和分析型决策的制定  \n",
    "操作型系统的用户确保组织能正常运转。鉴于这种执行特点，操作型系统通常不必维护历史数据，只需修改数据以反映最新的状态  \n",
    "另一方面，DW/BI系统的而用户研究分析企业的运转，并对其性能进行评估。为应对更复杂的问题，DW/BI系统的用户通常要求保存历史环境，用于精确地评估组织在一段时间内的性能  \n",
    "在本书第1版中，作者Ralph Kimball用一整章内容描述操作型处理和数据仓库之间存在的巨大差异。目前，DW/BI系统与操作型系统有不同的需求、不同的客户、不同的结构以及不同的应用场景的观点已经为大众所接受  "
   ]
  }
 ],
 "metadata": {
  "kernelspec": {
   "display_name": "Python 3",
   "language": "python",
   "name": "python3"
  },
  "language_info": {
   "codemirror_mode": {
    "name": "ipython",
    "version": 3
   },
   "file_extension": ".py",
   "mimetype": "text/x-python",
   "name": "python",
   "nbconvert_exporter": "python",
   "pygments_lexer": "ipython3",
   "version": "3.7.1"
  },
  "toc": {
   "base_numbering": 1,
   "nav_menu": {},
   "number_sections": false,
   "sideBar": true,
   "skip_h1_title": false,
   "title_cell": "Table of Contents",
   "title_sidebar": "Contents",
   "toc_cell": false,
   "toc_position": {},
   "toc_section_display": true,
   "toc_window_display": false
  }
 },
 "nbformat": 4,
 "nbformat_minor": 4
}
