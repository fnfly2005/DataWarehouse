{
 "cells": [
  {
   "cell_type": "markdown",
   "metadata": {},
   "source": [
    "# 17 生命周期概述\n",
    "本章将不再关注Kimball的维度建模技术，而是将注意力转向数据仓库/商业智能(DW/BI)设计和实施项目过程中所设计的其他方面  \n",
    "更多有关Kimball生命周期的详细内容可以参考《数据仓库生命周期》一书。本章是从该书内容中抽取出来的专供速成学习的摘录教程 5  "
   ]
  },
  {
   "cell_type": "markdown",
   "metadata": {},
   "source": [
    "# 18 维度建模过程与任务\n",
    "本书从第1章开始到第16章为止，描述了大量的维度建模模式。现在将注意力转向维度建模过程所涉及的任务和策略方面  \n",
    "本章将凝练《数据仓库生命周期》一书的内容，开始实际讨论初期准备活动，例如，确定参与者（包括业务代表）和物流安排 5  "
   ]
  },
  {
   "cell_type": "markdown",
   "metadata": {},
   "source": [
    "# 19 ETL子系统与技术\n",
    "在建立DW/BI环境时，获取、转换、加载系统是最耗费时间和工作的部分  \n",
    "从大量成功的数据仓库取得的经验来看，ETL最佳实践的宗旨在于，不要采用无结构的方法  \n",
    "仔细考察这些最佳时间揭示出了在几乎所有维度数据仓库后端需要考虑的34个子系统  \n",
    "本章主要参考（数据仓库生命周期）一书的相关内容 5    "
   ]
  },
  {
   "cell_type": "markdown",
   "metadata": {},
   "source": [
    "# 20 ETL系统设计与开发过程和任务\n",
    "开发获取、转换、加载系统是大多数DW/BI项目隐藏在冰山下的部分，本章所描述的概念和方法，来自《数据仓库生命周期》一书的相关内容，也包含手工编码的系统 5  "
   ]
  },
  {
   "cell_type": "markdown",
   "metadata": {},
   "source": [
    "# 21 大数据分析\n"
   ]
  }
 ],
 "metadata": {
  "kernelspec": {
   "display_name": "Python 3",
   "language": "python",
   "name": "python3"
  },
  "language_info": {
   "codemirror_mode": {
    "name": "ipython",
    "version": 3
   },
   "file_extension": ".py",
   "mimetype": "text/x-python",
   "name": "python",
   "nbconvert_exporter": "python",
   "pygments_lexer": "ipython3",
   "version": "3.7.1"
  },
  "toc": {
   "base_numbering": 1,
   "nav_menu": {},
   "number_sections": false,
   "sideBar": true,
   "skip_h1_title": false,
   "title_cell": "Table of Contents",
   "title_sidebar": "Contents",
   "toc_cell": false,
   "toc_position": {},
   "toc_section_display": true,
   "toc_window_display": false
  }
 },
 "nbformat": 4,
 "nbformat_minor": 4
}
